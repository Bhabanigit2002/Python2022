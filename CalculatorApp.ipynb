{
 "cells": [
  {
   "cell_type": "code",
   "execution_count": 3,
   "id": "ad3a740f",
   "metadata": {},
   "outputs": [
    {
     "name": "stdout",
     "output_type": "stream",
     "text": [
      "enter the no 1: 15\n",
      "enter the operator: %\n",
      "enter the no 2: 2\n",
      "1\n"
     ]
    }
   ],
   "source": [
    "num1=int(input(\"enter the no 1: \"))\n",
    "operator=input(\"enter the operator: \")\n",
    "num2=int(input(\"enter the no 2: \"))\n",
    "if operator=='+':\n",
    "    print(num1+num2)\n",
    "elif operator=='-':\n",
    "    print(num1-num2)\n",
    "elif operator=='*':\n",
    "    print(num1*num2)\n",
    "elif operator=='/':\n",
    "    print(num1/num2)\n",
    "elif operator=='%':\n",
    "    print(num1%num2) \n",
    "else:\n",
    "    print('invalid operator')\n",
    "\n",
    "    "
   ]
  },
  {
   "cell_type": "code",
   "execution_count": null,
   "id": "58e287ee",
   "metadata": {},
   "outputs": [],
   "source": []
  }
 ],
 "metadata": {
  "kernelspec": {
   "display_name": "Python 3 (ipykernel)",
   "language": "python",
   "name": "python3"
  },
  "language_info": {
   "codemirror_mode": {
    "name": "ipython",
    "version": 3
   },
   "file_extension": ".py",
   "mimetype": "text/x-python",
   "name": "python",
   "nbconvert_exporter": "python",
   "pygments_lexer": "ipython3",
   "version": "3.9.12"
  }
 },
 "nbformat": 4,
 "nbformat_minor": 5
}
